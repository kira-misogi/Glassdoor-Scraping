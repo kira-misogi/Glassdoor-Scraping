{
 "cells": [
  {
   "cell_type": "code",
   "execution_count": 1,
   "id": "e51a1caa",
   "metadata": {
    "execution": {
     "iopub.execute_input": "2023-08-11T07:02:40.131968Z",
     "iopub.status.busy": "2023-08-11T07:02:40.130623Z",
     "iopub.status.idle": "2023-08-11T07:02:40.349790Z",
     "shell.execute_reply": "2023-08-11T07:02:40.348502Z"
    },
    "papermill": {
     "duration": 0.22707,
     "end_time": "2023-08-11T07:02:40.352749",
     "exception": false,
     "start_time": "2023-08-11T07:02:40.125679",
     "status": "completed"
    },
    "tags": []
   },
   "outputs": [],
   "source": [
    "import requests\n",
    "from bs4 import BeautifulSoup"
   ]
  },
  {
   "cell_type": "code",
   "execution_count": 2,
   "id": "d8751698",
   "metadata": {
    "execution": {
     "iopub.execute_input": "2023-08-11T07:02:40.360420Z",
     "iopub.status.busy": "2023-08-11T07:02:40.359718Z",
     "iopub.status.idle": "2023-08-11T07:02:47.035316Z",
     "shell.execute_reply": "2023-08-11T07:02:47.034154Z"
    },
    "papermill": {
     "duration": 6.682653,
     "end_time": "2023-08-11T07:02:47.038313",
     "exception": false,
     "start_time": "2023-08-11T07:02:40.355660",
     "status": "completed"
    },
    "tags": []
   },
   "outputs": [
    {
     "data": {
      "text/plain": [
       "2"
      ]
     },
     "execution_count": 2,
     "metadata": {},
     "output_type": "execute_result"
    }
   ],
   "source": [
    "payload = {'api_key':'b625656fd1d9a0117348372bbe0c9875',\n",
    "          'url':'https://www.glassdoor.co.in/Job/data-analyst-jobs-SRCH_KO0,12.htm'}\n",
    "response = requests.get('https://api.scraperapi.com', params = payload)\n",
    "\n",
    "soup = BeautifulSoup(response.text, \"lxml\")\n",
    "len(soup)"
   ]
  },
  {
   "cell_type": "code",
   "execution_count": 3,
   "id": "d740917e",
   "metadata": {
    "execution": {
     "iopub.execute_input": "2023-08-11T07:02:47.045421Z",
     "iopub.status.busy": "2023-08-11T07:02:47.044996Z",
     "iopub.status.idle": "2023-08-11T07:02:47.074850Z",
     "shell.execute_reply": "2023-08-11T07:02:47.073455Z"
    },
    "papermill": {
     "duration": 0.03648,
     "end_time": "2023-08-11T07:02:47.077514",
     "exception": false,
     "start_time": "2023-08-11T07:02:47.041034",
     "status": "completed"
    },
    "tags": []
   },
   "outputs": [],
   "source": [
    "job_cards = soup.find_all('li', {'class': 'react-job-listing css-108gl9c eigr9kq3'})\n",
    "job_data = []\n",
    "for card in job_cards:\n",
    "    title = card.find('div', {'class': 'job-title mt-xsm'}).text.strip()\n",
    "    company = card.find('div', {'class': 'job-search-8wag7x'}).text.strip()\n",
    "    location = card.find('div', {'class': 'location mt-xxsm'}).text.strip()\n",
    "    job_data.append({'Title': title, 'Company': company, 'Location': location})\n"
   ]
  },
  {
   "cell_type": "code",
   "execution_count": 4,
   "id": "411c6414",
   "metadata": {
    "execution": {
     "iopub.execute_input": "2023-08-11T07:02:47.085088Z",
     "iopub.status.busy": "2023-08-11T07:02:47.084152Z",
     "iopub.status.idle": "2023-08-11T07:02:47.097074Z",
     "shell.execute_reply": "2023-08-11T07:02:47.095810Z"
    },
    "papermill": {
     "duration": 0.019297,
     "end_time": "2023-08-11T07:02:47.099572",
     "exception": false,
     "start_time": "2023-08-11T07:02:47.080275",
     "status": "completed"
    },
    "tags": []
   },
   "outputs": [
    {
     "data": {
      "text/plain": [
       "[{'Title': 'Data Analyst',\n",
       "  'Company': 'Wipro Limited3.7 ★',\n",
       "  'Location': 'Hyderābād'},\n",
       " {'Title': 'Data Science/Analyst Instructor',\n",
       "  'Company': 'Firstcareer',\n",
       "  'Location': 'Indore'},\n",
       " {'Title': 'Data Analyst',\n",
       "  'Company': '8848 Digital LLP',\n",
       "  'Location': 'Remote'},\n",
       " {'Title': 'Data Analyst',\n",
       "  'Company': 'Vtech Solution Inc3.8 ★',\n",
       "  'Location': 'Vadodara'},\n",
       " {'Title': 'Data Analyst',\n",
       "  'Company': 'NatWest Group4.0 ★',\n",
       "  'Location': 'Gurgaon'},\n",
       " {'Title': 'Data Analyst',\n",
       "  'Company': 'Kanakia Spaces Reality Pvt.Ltd.',\n",
       "  'Location': 'Mumbai'},\n",
       " {'Title': 'Data Analyst',\n",
       "  'Company': 'COMBINED LOGISTICS',\n",
       "  'Location': 'New Delhi'},\n",
       " {'Title': 'BUSINESS ANALYST',\n",
       "  'Company': 'Symentix Technologies Private Limited3.8 ★',\n",
       "  'Location': 'New Delhi'},\n",
       " {'Title': 'Data Analyst', 'Company': 'TARGET4.3 ★', 'Location': 'Bengaluru'},\n",
       " {'Title': 'Statistics -Data Analyst',\n",
       "  'Company': 'Algowire Trading Technologies pvt .ltd',\n",
       "  'Location': 'Noida'},\n",
       " {'Title': 'Specialist, Analytics & Data Science',\n",
       "  'Company': 'Athena',\n",
       "  'Location': 'Remote'},\n",
       " {'Title': 'Analyst - Personal Data Analytics - Risk and Brand Protection',\n",
       "  'Company': 'Deloitte4.1 ★',\n",
       "  'Location': 'Hyderābād'},\n",
       " {'Title': 'Assistant Manager - Fraud Data Analyst',\n",
       "  'Company': 'PayU3.8 ★',\n",
       "  'Location': 'Gurgaon'},\n",
       " {'Title': 'Data analysis',\n",
       "  'Company': 'PRESTO Solutions',\n",
       "  'Location': 'Mumbai'},\n",
       " {'Title': 'Data Analyst', 'Company': 'Rambøll4.1 ★', 'Location': 'New Delhi'},\n",
       " {'Title': 'Data Analyst - Operations',\n",
       "  'Company': 'Driver Logistics',\n",
       "  'Location': 'Eranakulam'},\n",
       " {'Title': 'Data Analytics',\n",
       "  'Company': 'DigiAI Solutions',\n",
       "  'Location': 'Mumbai'},\n",
       " {'Title': 'Data Analyst',\n",
       "  'Company': 'Mahapatra Universal Limited',\n",
       "  'Location': 'Mumbai'},\n",
       " {'Title': 'Power BI Analyst',\n",
       "  'Company': 'Intellify Solutions',\n",
       "  'Location': 'Pune'},\n",
       " {'Title': 'Data Analyst',\n",
       "  'Company': 'Target Hydrautech Pvt Ltd.',\n",
       "  'Location': 'Vasai'},\n",
       " {'Title': 'Data Analyst - Economics',\n",
       "  'Company': 'The Economist Group LTD3.8 ★',\n",
       "  'Location': 'Gurgaon'},\n",
       " {'Title': 'Data Analyst',\n",
       "  'Company': 'Larsen & Toubro Limited3.4 ★',\n",
       "  'Location': 'Chennai'},\n",
       " {'Title': 'Data Analyst', 'Company': 'Aptean3.8 ★', 'Location': 'Bengaluru'},\n",
       " {'Title': 'Power BI analyst / Data analyst',\n",
       "  'Company': 'WeVOIS Labs Pvt. Ltd3.1 ★',\n",
       "  'Location': 'Jaipur'},\n",
       " {'Title': 'Software Data Analyst',\n",
       "  'Company': 'Ozell Cooner Paints2.7 ★',\n",
       "  'Location': 'New Delhi'},\n",
       " {'Title': 'Data Analyst',\n",
       "  'Company': 'India Bond Pvt Ltd',\n",
       "  'Location': 'Mumbai'},\n",
       " {'Title': 'Data Analyst',\n",
       "  'Company': 'enexion energy pvt ltd4.2 ★',\n",
       "  'Location': 'Pune'},\n",
       " {'Title': 'IT Business Analyst',\n",
       "  'Company': 'PROVIS TECHNOLOGIES PRIVATE LIMITED',\n",
       "  'Location': 'Jaipur'},\n",
       " {'Title': 'Business/Data Analyst',\n",
       "  'Company': 'Nest Tech',\n",
       "  'Location': 'Visakhapatnam'},\n",
       " {'Title': 'Data Analyst',\n",
       "  'Company': 'Episource, LLC.3.7 ★',\n",
       "  'Location': 'Chennai'}]"
      ]
     },
     "execution_count": 4,
     "metadata": {},
     "output_type": "execute_result"
    }
   ],
   "source": [
    "len(job_data)\n",
    "job_data"
   ]
  }
 ],
 "metadata": {
  "kernelspec": {
   "display_name": "Python 3",
   "language": "python",
   "name": "python3"
  },
  "language_info": {
   "codemirror_mode": {
    "name": "ipython",
    "version": 3
   },
   "file_extension": ".py",
   "mimetype": "text/x-python",
   "name": "python",
   "nbconvert_exporter": "python",
   "pygments_lexer": "ipython3",
   "version": "3.10.12"
  },
  "papermill": {
   "default_parameters": {},
   "duration": 19.958991,
   "end_time": "2023-08-11T07:02:48.023746",
   "environment_variables": {},
   "exception": null,
   "input_path": "__notebook__.ipynb",
   "output_path": "__notebook__.ipynb",
   "parameters": {},
   "start_time": "2023-08-11T07:02:28.064755",
   "version": "2.4.0"
  }
 },
 "nbformat": 4,
 "nbformat_minor": 5
}
